{
 "cells": [
  {
   "cell_type": "code",
   "execution_count": 2,
   "metadata": {},
   "outputs": [
    {
     "name": "stdout",
     "output_type": "stream",
     "text": [
      "Hello, World!\n"
     ]
    }
   ],
   "source": [
    "# Say \"Hello, World!\" With Python\n",
    "\n",
    "# https://www.hackerrank.com/challenges/py-hello-world/problem\n",
    "\n",
    "if __name__ == '__main__':\n",
    "    message = 'Hello, World!'\n",
    "    print(message)"
   ]
  },
  {
   "cell_type": "code",
   "execution_count": 3,
   "metadata": {},
   "outputs": [
    {
     "name": "stdout",
     "output_type": "stream",
     "text": [
      "3\n",
      "Weird\n"
     ]
    }
   ],
   "source": [
    "# Python If-Else\n",
    "\n",
    "# https://www.hackerrank.com/challenges/py-if-else/problem\n",
    "\n",
    "if __name__ == '__main__':\n",
    "    n = int(input().strip())\n",
    "\n",
    "    if n % 2 == 1:\n",
    "        print('Weird')\n",
    "    if n % 2 == 0 and n in range(2, 6):\n",
    "        print('Not Weird')\n",
    "    if n % 2 == 0 and n in range(6, 21):\n",
    "        print('Weird')\n",
    "    if n % 2 == 0 and n > 20:\n",
    "        print('Not Weird')"
   ]
  },
  {
   "cell_type": "code",
   "execution_count": 4,
   "metadata": {},
   "outputs": [
    {
     "name": "stdout",
     "output_type": "stream",
     "text": [
      "3\n",
      "2\n",
      "5\n",
      "1\n",
      "6\n"
     ]
    }
   ],
   "source": [
    "# Arithmetic Operators\n",
    "\n",
    "# https://www.hackerrank.com/challenges/python-arithmetic-operators/problem\n",
    "\n",
    "if __name__ == '__main__':\n",
    "    a = int(input())\n",
    "    b = int(input())\n",
    "\n",
    "    print(a + b)\n",
    "    print(a - b)\n",
    "    print(a * b)"
   ]
  },
  {
   "cell_type": "code",
   "execution_count": 5,
   "metadata": {},
   "outputs": [
    {
     "name": "stdout",
     "output_type": "stream",
     "text": [
      "4\n",
      "3\n",
      "1\n",
      "1.33333333333\n"
     ]
    }
   ],
   "source": [
    "# Python: Division\n",
    "\n",
    "# https://www.hackerrank.com/challenges/python-division/problem\n",
    "\n",
    "if __name__ == '__main__':\n",
    "    a = int(input())\n",
    "    b = int(input())\n",
    "\n",
    "    print(a // b)\n",
    "    print(round((a / b), 11))"
   ]
  },
  {
   "cell_type": "code",
   "execution_count": 6,
   "metadata": {},
   "outputs": [
    {
     "name": "stdout",
     "output_type": "stream",
     "text": [
      "5\n",
      "0\n",
      "1\n",
      "4\n",
      "9\n",
      "16\n"
     ]
    }
   ],
   "source": [
    "# Loops\n",
    "\n",
    "# https://www.hackerrank.com/challenges/python-loops/problem\n",
    "\n",
    "if __name__ == '__main__':\n",
    "    n = int(input())\n",
    "\n",
    "    for i in range(n):\n",
    "        print(i * i)"
   ]
  },
  {
   "cell_type": "code",
   "execution_count": 7,
   "metadata": {},
   "outputs": [
    {
     "name": "stdout",
     "output_type": "stream",
     "text": [
      "1990\n",
      "False\n"
     ]
    }
   ],
   "source": [
    "# Write a function\n",
    "\n",
    "# https://www.hackerrank.com/challenges/write-a-function/problem\n",
    "\n",
    "def is_leap(year):\n",
    "    leap = False\n",
    "    if year % 4 == 0 and year % 100 != 0 or year % 400 == 0:\n",
    "        leap = True\n",
    "    else:\n",
    "        leap = False\n",
    "    return leap\n",
    "\n",
    "\n",
    "if __name__ == '__main__':\n",
    "    year = int(input().strip())\n",
    "\n",
    "    print(is_leap(year))"
   ]
  },
  {
   "cell_type": "code",
   "execution_count": 9,
   "metadata": {},
   "outputs": [
    {
     "name": "stdout",
     "output_type": "stream",
     "text": [
      "3\n",
      "123\n"
     ]
    }
   ],
   "source": [
    "# Print Function\n",
    "\n",
    "# https://www.hackerrank.com/challenges/python-print/problem\n",
    "\n",
    "if __name__ == '__main__':\n",
    "    n = int(input())\n",
    "\n",
    "    numbers = ''\n",
    "    for i in range(1, n + 1):\n",
    "        numbers += str(i)\n",
    "    print(numbers)"
   ]
  },
  {
   "cell_type": "code",
   "execution_count": 10,
   "metadata": {},
   "outputs": [
    {
     "name": "stdout",
     "output_type": "stream",
     "text": [
      "1\n",
      "1\n",
      "1\n",
      "2\n",
      "[[0, 0, 0], [0, 0, 1], [0, 1, 0], [1, 0, 0], [1, 1, 1]]\n"
     ]
    }
   ],
   "source": [
    "# List Comprehensions\n",
    "\n",
    "# https://www.hackerrank.com/challenges/list-comprehensions/problem\n",
    "\n",
    "if __name__ == '__main__':\n",
    "    x = int(input())\n",
    "    y = int(input())\n",
    "    z = int(input())\n",
    "    n = int(input())\n",
    "\n",
    "    # result = []\n",
    "    # for i in range(0, x + 1):\n",
    "    #     for j in range(0, y + 1):\n",
    "    #         for k in range(0, z + 1):\n",
    "    #             if i + j + k != n:\n",
    "    #                 result.append([i, j, k])\n",
    "    # print(result)\n",
    "\n",
    "    yet_another_result = [[i, j, k] for i in range(0, x + 1) for j in range(0, y + 1) for k in range(0, z + 1) if i + j + k != n]\n",
    "    print(yet_another_result)"
   ]
  },
  {
   "cell_type": "code",
   "execution_count": 1,
   "metadata": {},
   "outputs": [
    {
     "name": "stdout",
     "output_type": "stream",
     "text": [
      "5\n",
      "2 3 3 6 6 5\n",
      "5\n"
     ]
    }
   ],
   "source": [
    "# Find the Runner-Up Score!\n",
    "\n",
    "# https://www.hackerrank.com/challenges/find-second-maximum-number-in-a-list/problem\n",
    "\n",
    "if __name__ == '__main__':\n",
    "    n = int(input())\n",
    "    arr = map(int, input().split())\n",
    "    \n",
    "    first_max = -101\n",
    "    second_max = -101\n",
    "    \n",
    "    for i in arr:\n",
    "        if i > first_max:\n",
    "            second_max = first_max\n",
    "            first_max = i\n",
    "        elif i > second_max and i != first_max:\n",
    "            second_max = i\n",
    "    print(second_max)"
   ]
  },
  {
   "cell_type": "code",
   "execution_count": 2,
   "metadata": {
    "scrolled": true
   },
   "outputs": [
    {
     "name": "stdout",
     "output_type": "stream",
     "text": [
      "5\n",
      "Harry\n",
      "37.21\n",
      "Berry\n",
      "37.21\n",
      "Tina\n",
      "37.2\n",
      "Akriti\n",
      "41\n",
      "Harsh\n",
      "39\n",
      "Berry\n",
      "Harry\n"
     ]
    }
   ],
   "source": [
    "# Nested Lists\n",
    "\n",
    "# https://www.hackerrank.com/challenges/nested-list/problem\n",
    "\n",
    "if __name__ == '__main__':\n",
    "    python_students = []\n",
    "    \n",
    "    for _ in range(int(input())):\n",
    "        name = input()\n",
    "        score = float(input())\n",
    "        python_students.append([name, score])\n",
    "    names = []    \n",
    "    lowest_score = 100\n",
    "    second_lowest_score = 100\n",
    "    for python_student in python_students:\n",
    "        if python_student[1] < lowest_score:\n",
    "            second_lowest_score = lowest_score\n",
    "            lowest_score = python_student[1]\n",
    "        elif python_student[1] < second_lowest_score and python_student[1] != lowest_score:\n",
    "            second_lowest_score = python_student[1]\n",
    "                \n",
    "    for name, score in python_students:\n",
    "        if score == second_lowest_score:\n",
    "            names.append(name)\n",
    "    names.sort()       \n",
    "    for name in names:\n",
    "        print(name)"
   ]
  },
  {
   "cell_type": "code",
   "execution_count": 1,
   "metadata": {
    "scrolled": true
   },
   "outputs": [
    {
     "name": "stdout",
     "output_type": "stream",
     "text": [
      "3\n",
      "Krishna 67 68 69\n",
      "Arjun 70 98 63\n",
      "Malika 52 56 60\n",
      "Malika\n",
      "56.00\n"
     ]
    }
   ],
   "source": [
    "# Finding the percentage\n",
    "\n",
    "# https://www.hackerrank.com/challenges/finding-the-percentage/problem\n",
    "\n",
    "if __name__ == '__main__':\n",
    "    n = int(input())\n",
    "    student_marks = {}\n",
    "    for _ in range(n):\n",
    "        name, *line = input().split()\n",
    "        scores = list(map(float, line))\n",
    "        student_marks[name] = scores\n",
    "    query_name = input()\n",
    "    \n",
    "    result = sum(student_marks[query_name])/len(student_marks[query_name])\n",
    "    print('%.2f' % result)\n",
    "#     print('{0:.2f}'.format(result))"
   ]
  },
  {
   "cell_type": "code",
   "execution_count": 2,
   "metadata": {},
   "outputs": [
    {
     "name": "stdout",
     "output_type": "stream",
     "text": [
      "12\n",
      "insert 0 5\n",
      "insert 1 10\n",
      "insert 0 6\n",
      "print\n",
      "[6, 5, 10]\n",
      "remove 6\n",
      "append 9\n",
      "append 1\n",
      "sort\n",
      "print\n",
      "[1, 5, 9, 10]\n",
      "pop\n",
      "reverse\n",
      "print\n",
      "[9, 5, 1]\n"
     ]
    }
   ],
   "source": [
    "# Lists\n",
    "\n",
    "# https://www.hackerrank.com/challenges/python-lists/problem\n",
    "\n",
    "if __name__ == '__main__':\n",
    "    N = int(input())\n",
    "    my_list = []\n",
    "    for i in range(N): \n",
    "        action, *elements = list(input().split())\n",
    "        my_elements = list(map(int, elements))\n",
    "        if action == 'insert':\n",
    "            my_list.insert(my_elements[0], my_elements[1])\n",
    "        elif action == 'print':\n",
    "            print(my_list)\n",
    "        elif action == 'remove':\n",
    "            my_list.remove(my_elements[0])\n",
    "        elif action == 'append':\n",
    "            my_list.append(my_elements[0])\n",
    "        elif action == 'sort':\n",
    "            my_list.sort()\n",
    "        elif action == 'pop':\n",
    "            my_list.pop()\n",
    "        elif action == 'reverse':\n",
    "            my_list.reverse()\n",
    "        else:\n",
    "            pass"
   ]
  },
  {
   "cell_type": "code",
   "execution_count": 3,
   "metadata": {},
   "outputs": [
    {
     "name": "stdout",
     "output_type": "stream",
     "text": [
      "2\n",
      "1 2\n",
      "3713081631934410656\n"
     ]
    }
   ],
   "source": [
    "# Tuples\n",
    "\n",
    "# https://www.hackerrank.com/challenges/python-tuples/problem\n",
    "\n",
    "if __name__ == '__main__':\n",
    "    n = int(input())\n",
    "    integer_list = map(int, input().split())\n",
    "    integer_tuple = tuple(integer_list)\n",
    "    print(hash(integer_tuple))"
   ]
  },
  {
   "cell_type": "code",
   "execution_count": 4,
   "metadata": {},
   "outputs": [
    {
     "name": "stdout",
     "output_type": "stream",
     "text": [
      "HackerRank.com presents \"Pythonist 2\".\n",
      "hACKERrANK.COM PRESENTS \"pYTHONIST 2\".\n"
     ]
    }
   ],
   "source": [
    "# sWAP cASE\n",
    "\n",
    "# https://www.hackerrank.com/challenges/swap-case/problem\n",
    "\n",
    "def swap_case(s):\n",
    "    return s.swapcase()\n",
    "\n",
    "if __name__ == '__main__':\n",
    "    s = input()\n",
    "    result = swap_case(s)\n",
    "    print(result)"
   ]
  },
  {
   "cell_type": "code",
   "execution_count": 5,
   "metadata": {},
   "outputs": [
    {
     "name": "stdout",
     "output_type": "stream",
     "text": [
      "this is a string\n",
      "this-is-a-string\n"
     ]
    }
   ],
   "source": [
    "# String Split and Join\n",
    "\n",
    "# https://www.hackerrank.com/challenges/python-string-split-and-join/problem\n",
    "\n",
    "def split_and_join(line):\n",
    "    # write your code here\n",
    "    return '-'.join(line.split())\n",
    "\n",
    "if __name__ == '__main__':\n",
    "    line = input()\n",
    "    result = split_and_join(line)\n",
    "    print(result)"
   ]
  },
  {
   "cell_type": "code",
   "execution_count": 6,
   "metadata": {},
   "outputs": [
    {
     "name": "stdout",
     "output_type": "stream",
     "text": [
      "Ross\n",
      "Taylor\n",
      "Hello Ross Taylor! You just delved into python.\n"
     ]
    }
   ],
   "source": [
    "# What's your Name?\n",
    "\n",
    "# https://www.hackerrank.com/challenges/whats-your-name/problem\n",
    "\n",
    "def print_full_name(first, last):\n",
    "    # Write your code here\n",
    "    print(f'Hello {first} {last}! You just delved into python.')\n",
    "\n",
    "if __name__ == '__main__':\n",
    "    first_name = input()\n",
    "    last_name = input()\n",
    "    print_full_name(first_name, last_name)"
   ]
  },
  {
   "cell_type": "code",
   "execution_count": 7,
   "metadata": {
    "scrolled": true
   },
   "outputs": [
    {
     "name": "stdout",
     "output_type": "stream",
     "text": [
      "abracadabra\n",
      "5 k\n",
      "abrackdabra\n"
     ]
    }
   ],
   "source": [
    "# Mutations\n",
    "\n",
    "# https://www.hackerrank.com/challenges/python-mutations/problem\n",
    "\n",
    "def mutate_string(string, position, character):\n",
    "    return string[:position] + character + string[position + 1:]\n",
    "\n",
    "if __name__ == '__main__':\n",
    "    string = input()\n",
    "    i, c = input().split()\n",
    "    new_string = mutate_string(string, int(i), c)\n",
    "    print(new_string)"
   ]
  },
  {
   "cell_type": "code",
   "execution_count": 1,
   "metadata": {},
   "outputs": [
    {
     "name": "stdout",
     "output_type": "stream",
     "text": [
      "ABCDCDC\n",
      "CDC\n",
      "2\n"
     ]
    }
   ],
   "source": [
    "# Find a string\n",
    "\n",
    "# https://www.hackerrank.com/challenges/find-a-string/problem\n",
    "\n",
    "def count_substring(string, sub_string):\n",
    "    count = 0\n",
    "    for i in range(len(string)):\n",
    "        if string[i:i+len(sub_string)] == sub_string:\n",
    "            count += 1\n",
    "    return count\n",
    "\n",
    "if __name__ == '__main__':\n",
    "    string = input().strip()\n",
    "    sub_string = input().strip()\n",
    "    \n",
    "    count = count_substring(string, sub_string)\n",
    "    print(count)"
   ]
  },
  {
   "cell_type": "code",
   "execution_count": null,
   "metadata": {},
   "outputs": [],
   "source": [
    "String Validators\n",
    "\n",
    "\n",
    "\n",
    "if __name__ == '__main__':\n",
    "    string = input()\n",
    "    print(any(char.isalnum() for char in string))\n",
    "    print(any(char.isalpha() for char in string))\n",
    "    print(any(char.isdigit() for char in string))\n",
    "    print(any(char.islower() for char in string))\n",
    "    print(any(char.isupper() for char in string))"
   ]
  }
 ],
 "metadata": {
  "kernelspec": {
   "display_name": "Python 3",
   "language": "python",
   "name": "python3"
  },
  "language_info": {
   "codemirror_mode": {
    "name": "ipython",
    "version": 3
   },
   "file_extension": ".py",
   "mimetype": "text/x-python",
   "name": "python",
   "nbconvert_exporter": "python",
   "pygments_lexer": "ipython3",
   "version": "3.7.3"
  }
 },
 "nbformat": 4,
 "nbformat_minor": 2
}
